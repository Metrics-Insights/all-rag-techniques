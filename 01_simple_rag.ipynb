{
 "cells": [
  {
   "cell_type": "code",
   "execution_count": 2,
   "metadata": {
    "ExecuteTime": {
     "end_time": "2025-08-01T04:37:45.985343Z",
     "start_time": "2025-08-01T04:37:45.979691Z"
    },
    "execution": {
     "iopub.execute_input": "2025-08-03T15:12:32.755259Z",
     "iopub.status.busy": "2025-08-03T15:12:32.754865Z",
     "iopub.status.idle": "2025-08-03T15:12:32.770145Z",
     "shell.execute_reply": "2025-08-03T15:12:32.769552Z",
     "shell.execute_reply.started": "2025-08-03T15:12:32.755239Z"
    }
   },
   "outputs": [
    {
     "name": "stdout",
     "output_type": "stream",
     "text": [
      "API key loaded successfully.\n"
     ]
    }
   ],
   "source": [
    "# !pip install pymupdf frontend tools\n",
    "\n",
    "import os\n",
    "\n",
    "# Get the API key from environment variable\n",
    "api_key = os.getenv(\"OPENAI_API_KEY\")\n",
    "\n",
    "# Check if it's loaded\n",
    "if api_key:\n",
    "    print(\"API key loaded successfully.\")\n",
    "else:\n",
    "    print(\"OPENAI_API_KEY not found in environment.\")"
   ]
  },
  {
   "cell_type": "markdown",
   "metadata": {
    "vscode": {
     "languageId": "markdown"
    }
   },
   "source": [
    "# Introduction to Simple RAG\n",
    "\n",
    "Retrieval-Augmented Generation (RAG) is a hybrid approach that combines information retrieval with generative models. It enhances the performance of language models by incorporating external knowledge, which improves accuracy and factual correctness.\n",
    "\n",
    "In a Simple RAG setup, we follow these steps:\n",
    "\n",
    "1. **Data Ingestion**: Load and preprocess the text data.\n",
    "2. **Chunking**: Break the data into smaller chunks to improve retrieval performance.\n",
    "3. **Embedding Creation**: Convert the text chunks into numerical representations using an embedding model.\n",
    "4. **Semantic Search**: Retrieve relevant chunks based on a user query.\n",
    "5. **Response Generation**: Use a language model to generate a response based on retrieved text.\n",
    "\n",
    "This notebook implements a Simple RAG approach, evaluates the model’s response, and explores various improvements."
   ]
  },
  {
   "cell_type": "markdown",
   "metadata": {},
   "source": [
    "## Setting Up the Environment\n",
    "We begin by importing necessary libraries."
   ]
  },
  {
   "cell_type": "code",
   "execution_count": 3,
   "metadata": {
    "ExecuteTime": {
     "end_time": "2025-08-01T04:37:48.739000Z",
     "start_time": "2025-08-01T04:37:47.939674Z"
    },
    "execution": {
     "iopub.execute_input": "2025-08-03T15:12:33.808890Z",
     "iopub.status.busy": "2025-08-03T15:12:33.807424Z",
     "iopub.status.idle": "2025-08-03T15:12:35.064698Z",
     "shell.execute_reply": "2025-08-03T15:12:35.063872Z",
     "shell.execute_reply.started": "2025-08-03T15:12:33.808851Z"
    }
   },
   "outputs": [],
   "source": [
    "import fitz\n",
    "import os\n",
    "import numpy as np\n",
    "import json\n",
    "from openai import OpenAI"
   ]
  },
  {
   "cell_type": "markdown",
   "metadata": {},
   "source": [
    "## Extracting Text from a PDF File\n",
    "To implement RAG, we first need a source of textual data. In this case, we extract text from a PDF file using the PyMuPDF library."
   ]
  },
  {
   "cell_type": "code",
   "execution_count": 4,
   "metadata": {
    "ExecuteTime": {
     "end_time": "2025-08-01T04:37:49.193687Z",
     "start_time": "2025-08-01T04:37:49.190712Z"
    },
    "execution": {
     "iopub.execute_input": "2025-08-03T15:12:35.067079Z",
     "iopub.status.busy": "2025-08-03T15:12:35.066515Z",
     "iopub.status.idle": "2025-08-03T15:12:35.073054Z",
     "shell.execute_reply": "2025-08-03T15:12:35.072099Z",
     "shell.execute_reply.started": "2025-08-03T15:12:35.067061Z"
    }
   },
   "outputs": [],
   "source": [
    "def extract_text_from_pdf(pdf_path):\n",
    "    \"\"\"\n",
    "    Extracts text from a PDF file and prints the first `num_chars` characters.\n",
    "\n",
    "    Args:\n",
    "    pdf_path (str): Path to the PDF file.\n",
    "\n",
    "    Returns:\n",
    "    str: Extracted text from the PDF.\n",
    "    \"\"\"\n",
    "    # Open the PDF file\n",
    "    mypdf = fitz.open(pdf_path)\n",
    "    all_text = \"\"  # Initialize an empty string to store the extracted text\n",
    "\n",
    "    # Iterate through each page in the PDF\n",
    "    for page_num in range(mypdf.page_count):\n",
    "        page = mypdf[page_num]  # Get the page\n",
    "        text = page.get_text(\"text\")  # Extract text from the page\n",
    "        all_text += text  # Append the extracted text to the all_text string\n",
    "\n",
    "    return all_text  # Return the extracted text"
   ]
  },
  {
   "cell_type": "markdown",
   "metadata": {},
   "source": [
    "## Chunking the Extracted Text\n",
    "Once we have the extracted text, we divide it into smaller, overlapping chunks to improve retrieval accuracy."
   ]
  },
  {
   "cell_type": "code",
   "execution_count": 5,
   "metadata": {
    "ExecuteTime": {
     "end_time": "2025-08-01T04:37:53.392041Z",
     "start_time": "2025-08-01T04:37:53.389690Z"
    },
    "execution": {
     "iopub.execute_input": "2025-08-03T15:12:35.695254Z",
     "iopub.status.busy": "2025-08-03T15:12:35.694220Z",
     "iopub.status.idle": "2025-08-03T15:12:35.701166Z",
     "shell.execute_reply": "2025-08-03T15:12:35.700246Z",
     "shell.execute_reply.started": "2025-08-03T15:12:35.695214Z"
    }
   },
   "outputs": [],
   "source": [
    "def chunk_text(text, n, overlap):\n",
    "    \"\"\"\n",
    "    Chunks the given text into segments of n characters with overlap.\n",
    "\n",
    "    Args:\n",
    "    text (str): The text to be chunked.\n",
    "    n (int): The number of characters in each chunk.\n",
    "    overlap (int): The number of overlapping characters between chunks.\n",
    "\n",
    "    Returns:\n",
    "    List[str]: A list of text chunks.\n",
    "    \"\"\"\n",
    "    chunks = []  # Initialize an empty list to store the chunks\n",
    "    \n",
    "    # Loop through the text with a step size of (n - overlap)\n",
    "    for i in range(0, len(text), n - overlap):\n",
    "        # Append a chunk of text from index i to i + n to the chunks list\n",
    "        chunks.append(text[i:i + n])\n",
    "\n",
    "    return chunks  # Return the list of text chunks"
   ]
  },
  {
   "cell_type": "markdown",
   "metadata": {},
   "source": [
    "## Setting Up the OpenAI API Client\n",
    "We initialize the OpenAI client to generate embeddings and responses."
   ]
  },
  {
   "cell_type": "code",
   "execution_count": 6,
   "metadata": {
    "ExecuteTime": {
     "end_time": "2025-08-01T04:46:32.663137Z",
     "start_time": "2025-08-01T04:46:32.660836Z"
    },
    "execution": {
     "iopub.execute_input": "2025-08-03T15:12:36.808551Z",
     "iopub.status.busy": "2025-08-03T15:12:36.808285Z",
     "iopub.status.idle": "2025-08-03T15:12:36.812890Z",
     "shell.execute_reply": "2025-08-03T15:12:36.811713Z",
     "shell.execute_reply.started": "2025-08-03T15:12:36.808537Z"
    }
   },
   "outputs": [],
   "source": [
    "# !pip install azure-core\n",
    "# !pip install azure-identity"
   ]
  },
  {
   "cell_type": "code",
   "execution_count": 21,
   "metadata": {
    "ExecuteTime": {
     "end_time": "2025-08-01T04:56:54.205457Z",
     "start_time": "2025-08-01T04:56:52.855007Z"
    },
    "execution": {
     "iopub.execute_input": "2025-08-03T15:26:03.583999Z",
     "iopub.status.busy": "2025-08-03T15:26:03.583771Z",
     "iopub.status.idle": "2025-08-03T15:26:05.629316Z",
     "shell.execute_reply": "2025-08-03T15:26:05.628861Z",
     "shell.execute_reply.started": "2025-08-03T15:26:03.583987Z"
    }
   },
   "outputs": [
    {
     "name": "stdout",
     "output_type": "stream",
     "text": [
      "dall-e-3-3.0\n",
      "dall-e-2-2.0\n",
      "whisper-001\n",
      "gpt-35-turbo-0301\n",
      "gpt-35-turbo-0613\n",
      "gpt-35-turbo-1106\n",
      "gpt-35-turbo-0125\n",
      "gpt-35-turbo-instruct-0914\n",
      "gpt-35-turbo-16k-0613\n",
      "gpt-4-0125-Preview\n",
      "gpt-4-1106-Preview\n",
      "gpt-4-0314\n",
      "gpt-4-0613\n",
      "gpt-4-32k-0314\n",
      "gpt-4-32k-0613\n",
      "gpt-4-vision-preview\n",
      "gpt-4-turbo-2024-04-09\n",
      "gpt-4-turbo-jp\n",
      "gpt-4o-2024-05-13\n",
      "gpt-4o-2024-08-06\n",
      "gpt-4o-mini-2024-07-18\n",
      "gpt-4o-2024-11-20\n",
      "gpt-4o-audio-mai\n",
      "gpt-4o-realtime-preview\n",
      "gpt-4o-mini-realtime-preview-2024-12-17\n",
      "gpt-4o-realtime-preview-2024-12-17\n",
      "gpt-4o-realtime-preview-2025-06-03\n",
      "gpt-4o-canvas-2024-09-25\n",
      "gpt-4o-audio-preview-2024-10-01\n",
      "gpt-4o-audio-preview-2024-12-17\n",
      "gpt-4o-audio-preview-2025-06-03\n",
      "gpt-4o-mini-audio-preview-2024-12-17\n",
      "computer-use-preview-2025-04-15\n",
      "gpt-4o-transcribe-2025-03-20\n",
      "gpt-4o-mini-transcribe-2025-03-20\n",
      "gpt-4o-mini-tts-2025-03-20\n",
      "gpt-4.1-2025-04-14\n",
      "gpt-4.1-2025-04-14-text\n",
      "gpt-4.1-mini-2025-04-14\n",
      "gpt-4.1-nano-2025-04-14\n",
      "o1-preview-2024-09-12\n",
      "o1-mini-2024-09-12\n",
      "o1-2024-12-17\n",
      "o1-pro-2025-03-19\n",
      "o3-mini-alpha-2024-12-17\n",
      "o3-mini-2025-01-31\n",
      "o4-mini-2025-04-16\n",
      "ada\n",
      "text-similarity-ada-001\n",
      "text-search-ada-doc-001\n",
      "text-search-ada-query-001\n",
      "code-search-ada-code-001\n",
      "code-search-ada-text-001\n",
      "text-embedding-ada-002\n",
      "text-embedding-ada-002-2\n",
      "babbage\n",
      "text-similarity-babbage-001\n",
      "text-search-babbage-doc-001\n",
      "text-search-babbage-query-001\n",
      "code-search-babbage-code-001\n",
      "code-search-babbage-text-001\n",
      "curie\n",
      "text-similarity-curie-001\n",
      "text-search-curie-doc-001\n",
      "text-search-curie-query-001\n",
      "davinci\n",
      "text-similarity-davinci-001\n",
      "text-search-davinci-doc-001\n",
      "text-search-davinci-query-001\n",
      "text-embedding-3-small\n",
      "text-embedding-3-large\n",
      "model-router-2025-05-19\n",
      "codex-mini-2025-05-16\n",
      "aoai-sora-2025-02-28\n",
      "sora-2025-05-02\n",
      "AI21-Jamba-1.5-Large\n",
      "AI21-Jamba-1.5-Mini\n",
      "AI21-Jamba-Instruct\n",
      "Codestral-2501-2\n",
      "cohere-command-a\n",
      "Cohere-command-r\n",
      "Cohere-command-r-08-2024\n",
      "Cohere-command-r-plus\n",
      "Cohere-command-r-plus-08-2024\n",
      "Cohere-embed-v3-english\n",
      "Cohere-embed-v3-multilingual\n",
      "DeepSeek-R1\n",
      "DeepSeek-R1-0528\n",
      "DeepSeek-V3\n",
      "DeepSeek-V3-0324\n",
      "embed-v-4-0\n",
      "jais-30b-chat\n",
      "jais-30b-chat-2\n",
      "jais-30b-chat-3\n",
      "Llama-3.2-11B-Vision-Instruct\n",
      "Llama-3.2-11B-Vision-Instruct-2\n",
      "Llama-3.2-90B-Vision-Instruct\n",
      "Llama-3.2-90B-Vision-Instruct-2\n",
      "Llama-3.2-90B-Vision-Instruct-3\n",
      "Llama-3.3-70B-Instruct\n",
      "Llama-3.3-70B-Instruct-2\n",
      "Llama-3.3-70B-Instruct-3\n",
      "Llama-3.3-70B-Instruct-4\n",
      "Llama-3.3-70B-Instruct-5\n",
      "MAI-DS-R1\n",
      "Meta-Llama-3-70B-Instruct-6\n",
      "Meta-Llama-3-70B-Instruct-7\n",
      "Meta-Llama-3-70B-Instruct-8\n",
      "Meta-Llama-3-70B-Instruct-9\n",
      "Meta-Llama-3-8B-Instruct-6\n",
      "Meta-Llama-3-8B-Instruct-7\n",
      "Meta-Llama-3-8B-Instruct-8\n",
      "Meta-Llama-3-8B-Instruct-9\n",
      "Meta-Llama-3.1-405B-Instruct\n",
      "Meta-Llama-3.1-70B-Instruct\n",
      "Meta-Llama-3.1-70B-Instruct-2\n",
      "Meta-Llama-3.1-70B-Instruct-3\n",
      "Meta-Llama-3.1-70B-Instruct-4\n",
      "Meta-Llama-3.1-8B-Instruct\n",
      "Meta-Llama-3.1-8B-Instruct-2\n",
      "Meta-Llama-3.1-8B-Instruct-3\n",
      "Meta-Llama-3.1-8B-Instruct-4\n",
      "Meta-Llama-3.1-8B-Instruct-5\n",
      "Ministral-3B\n",
      "Mistral-large-2407\n",
      "Mistral-Large-2411-2\n",
      "Mistral-Nemo\n",
      "Mistral-small\n",
      "mistral-small-2503\n",
      "Phi-3-medium-128k-instruct-3\n",
      "Phi-3-medium-128k-instruct-4\n",
      "Phi-3-medium-128k-instruct-5\n",
      "Phi-3-medium-128k-instruct-6\n",
      "Phi-3-medium-128k-instruct-7\n",
      "Phi-3-medium-4k-instruct-3\n",
      "Phi-3-medium-4k-instruct-4\n",
      "Phi-3-medium-4k-instruct-5\n",
      "Phi-3-medium-4k-instruct-6\n",
      "Phi-3-mini-128k-instruct-10\n",
      "Phi-3-mini-128k-instruct-11\n",
      "Phi-3-mini-128k-instruct-12\n",
      "Phi-3-mini-128k-instruct-13\n",
      "Phi-3-mini-4k-instruct-10\n",
      "Phi-3-mini-4k-instruct-11\n",
      "Phi-3-mini-4k-instruct-13\n",
      "Phi-3-mini-4k-instruct-14\n",
      "Phi-3-mini-4k-instruct-15\n",
      "Phi-3-small-128k-instruct-3\n",
      "Phi-3-small-128k-instruct-4\n",
      "Phi-3-small-128k-instruct-5\n",
      "Phi-3-small-8k-instruct-3\n",
      "Phi-3-small-8k-instruct-4\n",
      "Phi-3-small-8k-instruct-5\n",
      "Phi-3.5-mini-instruct\n",
      "Phi-3.5-mini-instruct-2\n",
      "Phi-3.5-mini-instruct-3\n",
      "Phi-3.5-mini-instruct-4\n",
      "Phi-3.5-mini-instruct-6\n",
      "Phi-3.5-MoE-instruct-2\n",
      "Phi-3.5-MoE-instruct-3\n",
      "Phi-3.5-MoE-instruct-4\n",
      "Phi-3.5-MoE-instruct-5\n",
      "Phi-3.5-vision-instruct\n",
      "Phi-3.5-vision-instruct-2\n",
      "Phi-4-2\n",
      "Phi-4-3\n",
      "Phi-4-4\n",
      "Phi-4-5\n",
      "Phi-4-6\n",
      "Phi-4-7\n",
      "Phi-4-mini-instruct\n",
      "Phi-4-multimodal-instruct\n",
      "Stable-Diffusion-3.5-Large\n",
      "Stable-Image-Core\n",
      "Stable-Image-Ultra\n",
      "Phi-4-reasoning\n",
      "Phi-4-mini-reasoning\n",
      "Llama-4-Maverick-17B-128E-Instruct-FP8\n",
      "Llama-4-Scout-17B-16E-Instruct\n",
      "mistral-medium-2505\n",
      "grok-3\n",
      "grok-3-mini\n",
      "FLUX-1.1-pro\n",
      "FLUX.1-Kontext-pro\n",
      "dall-e-3\n",
      "dall-e-2\n",
      "whisper\n",
      "gpt-35-turbo\n",
      "gpt-35-turbo-instruct\n",
      "gpt-35-turbo-16k\n",
      "gpt-4\n",
      "gpt-4-32k\n",
      "gpt-4o\n",
      "gpt-4o-mini\n",
      "gpt-4o-transcribe\n",
      "gpt-4o-mini-transcribe\n",
      "gpt-4o-mini-tts\n",
      "gpt-4.1\n",
      "gpt-4.1-mini\n",
      "gpt-4.1-nano\n",
      "o1-preview\n",
      "o1-pro\n",
      "o3-mini-alpha\n",
      "o3-mini\n",
      "o4-mini\n",
      "text-embedding-ada-002\n",
      "model-router\n",
      "aoai-sora\n",
      "sora\n"
     ]
    }
   ],
   "source": [
    "import os\n",
    "from openai import AzureOpenAI\n",
    "    \n",
    "client = AzureOpenAI(\n",
    "    api_key=os.getenv(\"AZURE_OPENAI_API_KEY\"),  \n",
    "    api_version=\"2024-12-01-preview\",\n",
    "    azure_endpoint = os.getenv(\"AZURE_OPENAI_ENDPOINT\")\n",
    "    )\n",
    "models = client.models.list()\n",
    "for m in models.data:\n",
    "    print(m.id)"
   ]
  },
  {
   "cell_type": "raw",
   "metadata": {
    "ExecuteTime": {
     "end_time": "2025-08-01T04:44:31.575668Z",
     "start_time": "2025-08-01T04:44:31.558425Z"
    }
   },
   "source": [
    "# Initialize the OpenAI client with the base URL and API key\n",
    "client = OpenAI(\n",
    "#     base_url=\"https://api.studio.nebius.com/v1/\",\n",
    "    base_url=os.getenv(\"OPENAI_BASE_URL\", \"https://api.openai.com/v1\"),\n",
    "    api_key=os.getenv(\"OPENAI_API_KEY\")  # Retrieve the API key from environment variables\n",
    ")\n",
    "# models = client.models.list()\n",
    "# for m in models.data:\n",
    "#     print(m.id)\n"
   ]
  },
  {
   "cell_type": "markdown",
   "metadata": {},
   "source": [
    "## Extracting and Chunking Text from a PDF File\n",
    "Now, we load the PDF, extract text, and split it into chunks."
   ]
  },
  {
   "cell_type": "code",
   "execution_count": 22,
   "metadata": {
    "execution": {
     "iopub.execute_input": "2025-08-03T15:26:09.940626Z",
     "iopub.status.busy": "2025-08-03T15:26:09.939955Z",
     "iopub.status.idle": "2025-08-03T15:26:10.157780Z",
     "shell.execute_reply": "2025-08-03T15:26:10.157119Z",
     "shell.execute_reply.started": "2025-08-03T15:26:09.940595Z"
    }
   },
   "outputs": [
    {
     "name": "stdout",
     "output_type": "stream",
     "text": [
      "Number of text chunks: 42\n",
      "\n",
      "First text chunk:\n",
      "Understanding Artificial Intelligence \n",
      "Chapter 1: Introduction to Artificial Intelligence \n",
      "Artificial intelligence (AI) refers to the ability of a digital computer or computer-controlled robot \n",
      "to perform tasks commonly associated with intelligent beings. The term is frequently applied to \n",
      "the project of developing systems endowed with the intellectual processes characteristic of \n",
      "humans, such as the ability to reason, discover meaning, generalize, or learn from past \n",
      "experience. Over the past few decades, advancements in computing power and data availability \n",
      "have significantly accelerated the development and deployment of AI. \n",
      "Historical Context \n",
      "The idea of artificial intelligence has existed for centuries, often depicted in myths and fiction. \n",
      "However, the formal field of AI research began in the mid-20th century. The Dartmouth Workshop \n",
      "in 1956 is widely considered the birthplace of AI. Early AI research focused on problem-solving \n",
      "and symbolic methods. The 1980s saw a rise in exp\n"
     ]
    }
   ],
   "source": [
    "# Define the path to the PDF file\n",
    "pdf_path = \"data/AI_Information.pdf\"\n",
    "\n",
    "# Extract text from the PDF file\n",
    "extracted_text = extract_text_from_pdf(pdf_path)\n",
    "\n",
    "# Chunk the extracted text into segments of 1000 characters with an overlap of 200 characters\n",
    "text_chunks = chunk_text(extracted_text, 1000, 200)\n",
    "\n",
    "# Print the number of text chunks created\n",
    "print(\"Number of text chunks:\", len(text_chunks))\n",
    "\n",
    "# Print the first text chunk\n",
    "print(\"\\nFirst text chunk:\")\n",
    "print(text_chunks[0])"
   ]
  },
  {
   "cell_type": "markdown",
   "metadata": {},
   "source": [
    "## Creating Embeddings for Text Chunks\n",
    "Embeddings transform text into numerical vectors, which allow for efficient similarity search."
   ]
  },
  {
   "cell_type": "code",
   "execution_count": 23,
   "metadata": {
    "execution": {
     "iopub.execute_input": "2025-08-03T15:26:10.882163Z",
     "iopub.status.busy": "2025-08-03T15:26:10.881519Z",
     "iopub.status.idle": "2025-08-03T15:26:13.785469Z",
     "shell.execute_reply": "2025-08-03T15:26:13.784335Z",
     "shell.execute_reply.started": "2025-08-03T15:26:10.882128Z"
    }
   },
   "outputs": [],
   "source": [
    "def create_embeddings(text, model=\"text-embedding-3-large\"):\n",
    "    \"\"\"\n",
    "    Creates embeddings for the given text using the specified OpenAI model.\n",
    "\n",
    "    Args:\n",
    "    text (str): The input text for which embeddings are to be created.\n",
    "    model (str): The model to be used for creating embeddings. Default is \"BAAI/bge-en-icl\".\n",
    "\n",
    "    Returns:\n",
    "    dict: The response from the OpenAI API containing the embeddings.\n",
    "    \"\"\"\n",
    "    # Create embeddings for the input text using the specified model\n",
    "    response = client.embeddings.create(\n",
    "        model=model,\n",
    "        input=text\n",
    "    )\n",
    "\n",
    "    return response  # Return the response containing the embeddings\n",
    "\n",
    "# Create embeddings for the text chunks\n",
    "response = create_embeddings(text_chunks)"
   ]
  },
  {
   "cell_type": "markdown",
   "metadata": {},
   "source": [
    "## Performing Semantic Search\n",
    "We implement cosine similarity to find the most relevant text chunks for a user query."
   ]
  },
  {
   "cell_type": "code",
   "execution_count": 24,
   "metadata": {
    "execution": {
     "iopub.execute_input": "2025-08-03T15:26:13.786766Z",
     "iopub.status.busy": "2025-08-03T15:26:13.786548Z",
     "iopub.status.idle": "2025-08-03T15:26:13.791029Z",
     "shell.execute_reply": "2025-08-03T15:26:13.789936Z",
     "shell.execute_reply.started": "2025-08-03T15:26:13.786749Z"
    }
   },
   "outputs": [],
   "source": [
    "def cosine_similarity(vec1, vec2):\n",
    "    \"\"\"\n",
    "    Calculates the cosine similarity between two vectors.\n",
    "\n",
    "    Args:\n",
    "    vec1 (np.ndarray): The first vector.\n",
    "    vec2 (np.ndarray): The second vector.\n",
    "\n",
    "    Returns:\n",
    "    float: The cosine similarity between the two vectors.\n",
    "    \"\"\"\n",
    "    # Compute the dot product of the two vectors and divide by the product of their norms\n",
    "    return np.dot(vec1, vec2) / (np.linalg.norm(vec1) * np.linalg.norm(vec2))"
   ]
  },
  {
   "cell_type": "code",
   "execution_count": 25,
   "metadata": {
    "execution": {
     "iopub.execute_input": "2025-08-03T15:26:15.069538Z",
     "iopub.status.busy": "2025-08-03T15:26:15.069089Z",
     "iopub.status.idle": "2025-08-03T15:26:15.087600Z",
     "shell.execute_reply": "2025-08-03T15:26:15.086648Z",
     "shell.execute_reply.started": "2025-08-03T15:26:15.069506Z"
    }
   },
   "outputs": [],
   "source": [
    "def semantic_search(query, text_chunks, embeddings, k=5):\n",
    "    \"\"\"\n",
    "    Performs semantic search on the text chunks using the given query and embeddings.\n",
    "\n",
    "    Args:\n",
    "    query (str): The query for the semantic search.\n",
    "    text_chunks (List[str]): A list of text chunks to search through.\n",
    "    embeddings (List[dict]): A list of embeddings for the text chunks.\n",
    "    k (int): The number of top relevant text chunks to return. Default is 5.\n",
    "\n",
    "    Returns:\n",
    "    List[str]: A list of the top k most relevant text chunks based on the query.\n",
    "    \"\"\"\n",
    "    # Create an embedding for the query\n",
    "    query_embedding = create_embeddings(query).data[0].embedding\n",
    "    similarity_scores = []  # Initialize a list to store similarity scores\n",
    "\n",
    "    # Calculate similarity scores between the query embedding and each text chunk embedding\n",
    "    for i, chunk_embedding in enumerate(embeddings):\n",
    "        similarity_score = cosine_similarity(np.array(query_embedding), np.array(chunk_embedding.embedding))\n",
    "        similarity_scores.append((i, similarity_score))  # Append the index and similarity score\n",
    "\n",
    "    # Sort the similarity scores in descending order\n",
    "    similarity_scores.sort(key=lambda x: x[1], reverse=True)\n",
    "    # Get the indices of the top k most similar text chunks\n",
    "    top_indices = [index for index, _ in similarity_scores[:k]]\n",
    "    # Return the top k most relevant text chunks\n",
    "    return [text_chunks[index] for index in top_indices]\n"
   ]
  },
  {
   "cell_type": "markdown",
   "metadata": {},
   "source": [
    "## Running a Query on Extracted Chunks"
   ]
  },
  {
   "cell_type": "code",
   "execution_count": 26,
   "metadata": {
    "execution": {
     "iopub.execute_input": "2025-08-03T15:26:16.209116Z",
     "iopub.status.busy": "2025-08-03T15:26:16.208875Z",
     "iopub.status.idle": "2025-08-03T15:26:16.512833Z",
     "shell.execute_reply": "2025-08-03T15:26:16.512018Z",
     "shell.execute_reply.started": "2025-08-03T15:26:16.209102Z"
    }
   },
   "outputs": [
    {
     "name": "stdout",
     "output_type": "stream",
     "text": [
      "Query: What is 'Explainable AI' and why is it considered important?\n",
      "Context 1:\n",
      "systems. Explainable AI (XAI) \n",
      "techniques aim to make AI decisions more understandable, enabling users to assess their \n",
      "fairness and accuracy. \n",
      "Privacy and Data Protection \n",
      "AI systems often rely on large amounts of data, raising concerns about privacy and data \n",
      "protection. Ensuring responsible data handling, implementing privacy-preserving techniques, \n",
      "and complying with data protection regulations are crucial. \n",
      "Accountability and Responsibility \n",
      "Establishing accountability and responsibility for AI systems is essential for addressing potential \n",
      "harms and ensuring ethical behavior. This includes defining roles and responsibilities for \n",
      "developers, deployers, and users of AI systems. \n",
      "Chapter 20: Building Trust in AI \n",
      "Transparency and Explainability \n",
      "Transparency and explainability are key to building trust in AI. Making AI systems understandable \n",
      "and providing insights into their decision-making processes helps users assess their reliability \n",
      "and fairness. \n",
      "Robustness and Reliability \n",
      "\n",
      "=====================================\n",
      "Context 2:\n",
      "nt aligns with societal values. Education and awareness campaigns inform the public \n",
      "about AI, its impacts, and its potential. \n",
      "Chapter 19: AI and Ethics \n",
      "Principles of Ethical AI \n",
      "Ethical AI principles guide the development and deployment of AI systems to ensure they are fair, \n",
      "transparent, accountable, and beneficial to society. Key principles include respect for human \n",
      "rights, privacy, non-discrimination, and beneficence. \n",
      " \n",
      " \n",
      "Addressing Bias in AI \n",
      "AI systems can inherit and amplify biases present in the data they are trained on, leading to unfair \n",
      "or discriminatory outcomes. Addressing bias requires careful data collection, algorithm design, \n",
      "and ongoing monitoring and evaluation. \n",
      "Transparency and Explainability \n",
      "Transparency and explainability are essential for building trust in AI systems. Explainable AI (XAI) \n",
      "techniques aim to make AI decisions more understandable, enabling users to assess their \n",
      "fairness and accuracy. \n",
      "Privacy and Data Protection \n",
      "AI systems often rely on la\n",
      "=====================================\n"
     ]
    }
   ],
   "source": [
    "# Load the validation data from a JSON file\n",
    "with open('data/val.json') as f:\n",
    "    data = json.load(f)\n",
    "\n",
    "# Extract the first query from the validation data\n",
    "query = data[0]['question']\n",
    "\n",
    "# Perform semantic search to find the top 2 most relevant text chunks for the query\n",
    "top_chunks = semantic_search(query, text_chunks, response.data, k=2)\n",
    "\n",
    "# Print the query\n",
    "print(\"Query:\", query)\n",
    "\n",
    "# Print the top 2 most relevant text chunks\n",
    "for i, chunk in enumerate(top_chunks):\n",
    "    print(f\"Context {i + 1}:\\n{chunk}\\n=====================================\")"
   ]
  },
  {
   "cell_type": "markdown",
   "metadata": {},
   "source": [
    "## Generating a Response Based on Retrieved Chunks"
   ]
  },
  {
   "cell_type": "code",
   "execution_count": 28,
   "metadata": {
    "execution": {
     "iopub.execute_input": "2025-08-03T15:29:10.673764Z",
     "iopub.status.busy": "2025-08-03T15:29:10.672890Z",
     "iopub.status.idle": "2025-08-03T15:29:13.390011Z",
     "shell.execute_reply": "2025-08-03T15:29:13.389148Z",
     "shell.execute_reply.started": "2025-08-03T15:29:10.673744Z"
    }
   },
   "outputs": [],
   "source": [
    "# Define the system prompt for the AI assistant\n",
    "system_prompt = \"You are an AI assistant that strictly answers based on the given context. If the answer cannot be derived directly from the provided context, respond with: 'I do not have enough information to answer that.'\"\n",
    "\n",
    "def generate_response(system_prompt, user_message, model=\"o3-mini-andy-eastus2\"):\n",
    "    \"\"\"\n",
    "    Generates a response from the AI model based on the system prompt and user message.\n",
    "\n",
    "    Args:\n",
    "    system_prompt (str): The system prompt to guide the AI's behavior.\n",
    "    user_message (str): The user's message or query.\n",
    "    model (str): The model to be used for generating the response. Default is \"meta-llama/Llama-2-7B-chat-hf\".\n",
    "\n",
    "    Returns:\n",
    "    dict: The response from the AI model.\n",
    "    \"\"\"\n",
    "    response = client.chat.completions.create(\n",
    "        model=model,\n",
    "#         temperature=0,\n",
    "        messages=[\n",
    "            {\"role\": \"system\", \"content\": system_prompt},\n",
    "            {\"role\": \"user\", \"content\": user_message}\n",
    "        ]\n",
    "    )\n",
    "    return response\n",
    "\n",
    "# Create the user prompt based on the top chunks\n",
    "user_prompt = \"\\n\".join([f\"Context {i + 1}:\\n{chunk}\\n=====================================\\n\" for i, chunk in enumerate(top_chunks)])\n",
    "user_prompt = f\"{user_prompt}\\nQuestion: {query}\"\n",
    "\n",
    "# Generate AI response\n",
    "ai_response = generate_response(system_prompt, user_prompt)\n"
   ]
  },
  {
   "cell_type": "code",
   "execution_count": 29,
   "metadata": {
    "execution": {
     "iopub.execute_input": "2025-08-03T15:29:16.226290Z",
     "iopub.status.busy": "2025-08-03T15:29:16.225513Z",
     "iopub.status.idle": "2025-08-03T15:29:16.238409Z",
     "shell.execute_reply": "2025-08-03T15:29:16.237331Z",
     "shell.execute_reply.started": "2025-08-03T15:29:16.226254Z"
    }
   },
   "outputs": [
    {
     "data": {
      "text/markdown": [
       "Explainable AI (XAI) refers to techniques designed to make the decision-making processes of AI systems understandable to humans. It is considered important because it helps users assess the fairness and accuracy of AI systems, builds trust by providing transparency into how decisions are made, and supports accountability by allowing stakeholders to verify and monitor AI behavior."
      ],
      "text/plain": [
       "<IPython.core.display.Markdown object>"
      ]
     },
     "metadata": {},
     "output_type": "display_data"
    }
   ],
   "source": [
    "from IPython.display import display, Markdown, Latex\n",
    "\n",
    "display(Markdown(ai_response.choices[0].message.content))\n",
    "\n"
   ]
  },
  {
   "cell_type": "markdown",
   "metadata": {},
   "source": [
    "## Evaluating the AI Response\n",
    "We compare the AI response with the expected answer and assign a score."
   ]
  },
  {
   "cell_type": "code",
   "execution_count": 30,
   "metadata": {
    "execution": {
     "iopub.execute_input": "2025-08-03T15:29:20.400228Z",
     "iopub.status.busy": "2025-08-03T15:29:20.399633Z",
     "iopub.status.idle": "2025-08-03T15:29:22.562906Z",
     "shell.execute_reply": "2025-08-03T15:29:22.561973Z",
     "shell.execute_reply.started": "2025-08-03T15:29:20.400207Z"
    }
   },
   "outputs": [
    {
     "data": {
      "text/markdown": [
       "Score: 1"
      ],
      "text/plain": [
       "<IPython.core.display.Markdown object>"
      ]
     },
     "metadata": {},
     "output_type": "display_data"
    }
   ],
   "source": [
    "# Define the system prompt for the evaluation system\n",
    "evaluate_system_prompt = \"\"\"\n",
    "You are an intelligent evaluation system tasked with assessing the AI assistant's responses. \n",
    "If the AI assistant's response is very close to the true response, assign a score of 1.\n",
    "If the response is incorrect or unsatisfactory in relation to the true response, assign a score of 0.\n",
    "If the response is partially aligned with the true response, assign a score of 0.5.\n",
    "\"\"\"\n",
    "\n",
    "# Create the evaluation prompt by combining the user query, AI response, true response, and evaluation system prompt\n",
    "evaluation_prompt = f\"User Query: {query}\\nAI Response:\\n{ai_response.choices[0].message.content}\\nTrue Response: {data[0]['ideal_answer']}\\n{evaluate_system_prompt}\"\n",
    "\n",
    "# Generate the evaluation response using the evaluation system prompt and evaluation prompt\n",
    "evaluation_response = generate_response(evaluate_system_prompt, evaluation_prompt)\n",
    "\n",
    "# Print the evaluation response\n",
    "# print(evaluation_response.choices[0].message.content)\n",
    "display(Markdown(evaluation_response.choices[0].message.content))\n"
   ]
  },
  {
   "cell_type": "code",
   "execution_count": null,
   "metadata": {},
   "outputs": [],
   "source": []
  }
 ],
 "metadata": {
  "kernelspec": {
   "display_name": "Python 3 (ipykernel)",
   "language": "python",
   "name": "python3"
  },
  "language_info": {
   "codemirror_mode": {
    "name": "ipython",
    "version": 3
   },
   "file_extension": ".py",
   "mimetype": "text/x-python",
   "name": "python",
   "nbconvert_exporter": "python",
   "pygments_lexer": "ipython3",
   "version": "3.12.3"
  }
 },
 "nbformat": 4,
 "nbformat_minor": 4
}
